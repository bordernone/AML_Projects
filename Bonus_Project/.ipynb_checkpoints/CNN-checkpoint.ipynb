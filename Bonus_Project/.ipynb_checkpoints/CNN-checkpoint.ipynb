{
 "cells": [
  {
   "cell_type": "code",
   "execution_count": 1,
   "id": "85b20a81-3d5b-4bbe-b081-27ae5ff716ca",
   "metadata": {},
   "outputs": [
    {
     "name": "stderr",
     "output_type": "stream",
     "text": [
      "2023-12-08 00:12:51.418133: I tensorflow/core/platform/cpu_feature_guard.cc:182] This TensorFlow binary is optimized to use available CPU instructions in performance-critical operations.\n",
      "To enable the following instructions: SSE4.1 SSE4.2 AVX AVX2 FMA, in other operations, rebuild TensorFlow with the appropriate compiler flags.\n"
     ]
    },
    {
     "name": "stdout",
     "output_type": "stream",
     "text": [
      "Downloading data from https://storage.googleapis.com/tensorflow/tf-keras-datasets/mnist.npz\n",
      "11490434/11490434 [==============================] - 2s 0us/step\n"
     ]
    }
   ],
   "source": [
    "import numpy as np\n",
    "from scipy import signal\n",
    "from keras.datasets import mnist\n",
    "from PIL import Image\n",
    "\n",
    "def sigmoid(x):\n",
    "    return 1 / (1 + np.exp(-x))\n",
    "\n",
    "def sigmoid_derivative(x):\n",
    "    return sigmoid(x) * (1 - sigmoid(x))\n",
    "\n",
    "class CNN:\n",
    "    def __init__(self):\n",
    "        self.input_shape = (28, 28, 1) # (height, width, channel)\n",
    "        \n",
    "        self.layer_1_kernel_size = (3, 3)\n",
    "        self.layer_1_kernels = 2\n",
    "        self.layer_1_stride = 1\n",
    "        \n",
    "        self.layer_1_kernels = np.random.randn(self.layer_1_kernel_size[0], self.layer_1_kernel_size[1], self.layer_1_kernels)\n",
    "        \n",
    "    def applyKernel(self, input, kernel):\n",
    "        assert input.shape == self.input_shape, \"Input shape is not correct\"\n",
    "        return signal.correlate2d(input, kernel, mode='valid')\n",
    "        \n",
    "    def forwardCNN(self, input):\n",
    "        assert input.shape == self.input_shape, \"Input shape is not correct\"\n",
    "        \n",
    "        output_shape = (26, 26, 2)\n",
    "        output = np.zeros(output_shape)\n",
    "        \n",
    "        for i in range(self.layer_1_kernels):\n",
    "            output[:, :, i] = self.applyKernel(input[:, :, 0], self.layer_1_kernels[:, :, i])\n",
    "        \n",
    "        return output\n",
    "\n",
    "# Load MNIST dataset\n",
    "(x_train, y_train), (x_test, y_test) = mnist.load_data()\n",
    "# Display first image\n",
    "Image.fromarray(x_train[0]).show()"
   ]
  },
  {
   "cell_type": "code",
   "execution_count": null,
   "id": "b106533b-dcf8-484d-9bea-39e99ad73742",
   "metadata": {},
   "outputs": [],
   "source": []
  }
 ],
 "metadata": {
  "kernelspec": {
   "display_name": "Python 3 (ipykernel)",
   "language": "python",
   "name": "python3"
  },
  "language_info": {
   "codemirror_mode": {
    "name": "ipython",
    "version": 3
   },
   "file_extension": ".py",
   "mimetype": "text/x-python",
   "name": "python",
   "nbconvert_exporter": "python",
   "pygments_lexer": "ipython3",
   "version": "3.9.18"
  }
 },
 "nbformat": 4,
 "nbformat_minor": 5
}
