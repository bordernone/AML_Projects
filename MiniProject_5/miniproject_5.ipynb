{
 "cells": [
  {
   "cell_type": "code",
   "execution_count": 10,
   "metadata": {},
   "outputs": [],
   "source": [
    "!pip install numpy pandas matplotlib scikit-learn &> /dev/null"
   ]
  },
  {
   "cell_type": "code",
   "execution_count": 11,
   "metadata": {},
   "outputs": [],
   "source": [
    "import numpy as np\n",
    "import matplotlib.pyplot as plt\n",
    "from sklearn.datasets import load_digits\n",
    "from sklearn.preprocessing import StandardScaler\n",
    "from sklearn.model_selection import train_test_split"
   ]
  },
  {
   "cell_type": "code",
   "execution_count": 12,
   "metadata": {},
   "outputs": [],
   "source": [
    "class NeuralNetwork:\n",
    "    def __init__(self, input_n, output_n, activation=\"sigmoid\"):\n",
    "        self.input_n = input_n\n",
    "        self.output_n = output_n\n",
    "        \n",
    "        self.hiddenLayerN = 30\n",
    "        \n",
    "        # Input to layer 1\n",
    "        self.w1 = np.random.randn(input_n, self.hiddenLayerN)\n",
    "        self.b1 = np.random.randn(self.hiddenLayerN)\n",
    "        \n",
    "        # Layer 1 to output\n",
    "        self.w2 = np.random.randn(self.hiddenLayerN, output_n)\n",
    "        self.b2 = np.random.randn(output_n)\n",
    "        \n",
    "        # activation function\n",
    "        self.activation = None\n",
    "        self.activation_derivative = None\n",
    "        \n",
    "        self.setActivation(activation)\n",
    "        \n",
    "    def setActivation(self, activation):\n",
    "        if activation == \"sigmoid\":\n",
    "            self.activation = self.sigmoid\n",
    "            self.activation_derivative = self.sigmoid_derivative\n",
    "        elif activation == \"relu\":\n",
    "            self.activation = self.relu\n",
    "            self.activation_derivative = self.relu_derivative\n",
    "        elif activation == \"tanh\":\n",
    "            self.activation = self.tanh\n",
    "            self.activation_derivative = self.tanh_derivative\n",
    "        else:\n",
    "            raise Exception(\"Invalid activation function\")\n",
    "    \n",
    "    def sigmoid(self, x):\n",
    "        return 1 / (1 + np.exp(-x))\n",
    "    \n",
    "    def sigmoid_derivative(self, x):\n",
    "        return self.sigmoid(x) * (1 - self.sigmoid(x))\n",
    "    \n",
    "    def relu(self, x):\n",
    "        return np.maximum(0, x)\n",
    "    \n",
    "    def relu_derivative(self, x):\n",
    "        return np.where(x > 0, 1, 0)\n",
    "    \n",
    "    def tanh(self, x):\n",
    "        return np.tanh(x)\n",
    "    \n",
    "    def tanh_derivative(self, x):\n",
    "        return 1 - np.tanh(x) ** 2\n",
    "        \n",
    "    def forwardPass(self, X):\n",
    "        self.t1 = X @ self.w1 + self.b1\n",
    "        self.t2 = self.activation(self.t1)\n",
    "        self.t3 = self.t2 @ self.w2 + self.b2\n",
    "        return self.activation(self.t3)\n",
    "    \n",
    "    def backwardPass(self, X, y, output, lr):\n",
    "        error = y - output\n",
    "        delta = error * self.activation_derivative(output)\n",
    "        \n",
    "        hidden_layer_error = delta @ self.w2.T\n",
    "        hidden_layer_delta = hidden_layer_error * self.activation_derivative(self.t2)\n",
    "        \n",
    "        self.w2 += self.t2.T @ delta * lr\n",
    "        self.b2 += np.sum(delta, axis=0) * lr\n",
    "        self.w1 += X.T @ hidden_layer_delta * lr\n",
    "        self.b1 += np.sum(hidden_layer_delta, axis=0) * lr\n",
    "    \n",
    "    def loss(self, X, Y):\n",
    "        t = self.forwardPass(X)\n",
    "        return np.sum((t - Y) ** 2)\n",
    "    \n",
    "    def lossDerivativeWRTB2(self, X, Y):\n",
    "        return 2 * (self.activation(self.t3) - Y) * self.activation_derivative(self.t3)\n",
    "\n",
    "    def lossDerivativeWRTW2(self, X, Y):\n",
    "        return self.t2.T @ self.lossDerivativeWRTB2(X, Y)\n",
    "\n",
    "    def lossDerivativeWRTB1(self, X, Y):\n",
    "        return (self.lossDerivativeWRTB2(X, Y) @ self.w2.T) * self.activation_derivative(self.t1)\n",
    "\n",
    "    def lossDerivativeWRTW1(self, X, Y):\n",
    "        return X.T @ self.lossDerivativeWRTB1(X, Y)\n",
    "    \n",
    "    def fit(self, X, y, epochs=1000, lr=0.01, plot=False):\n",
    "        losses = []\n",
    "        for i in range(epochs):\n",
    "            losses.append(self.loss(X, y))\n",
    "            output = self.forwardPass(X)\n",
    "            self.backwardPass(X, y, output, lr)\n",
    "            \n",
    "\n",
    "        if plot:\n",
    "            plt.plot(losses)\n",
    "            plt.xlabel(\"Epoch\")\n",
    "            plt.ylabel(\"Loss\")\n",
    "            plt.show()\n",
    "            \n",
    "    def accuracy(self, X, y):\n",
    "        return np.mean(np.argmax(self.forwardPass(X), axis=1) == np.argmax(y, axis=1))\n"
   ]
  },
  {
   "cell_type": "code",
   "execution_count": 13,
   "metadata": {},
   "outputs": [
    {
     "name": "stdout",
     "output_type": "stream",
     "text": [
      "(1797, 64) (1797, 1)\n"
     ]
    }
   ],
   "source": [
    "X, y = load_digits(return_X_y=True)\n",
    "y = y.reshape(-1, 1)\n",
    "print(X.shape, y.shape)"
   ]
  },
  {
   "cell_type": "markdown",
   "metadata": {},
   "source": [
    "### Visualizing the data"
   ]
  },
  {
   "cell_type": "code",
   "execution_count": 14,
   "metadata": {},
   "outputs": [
    {
     "data": {
      "text/plain": [
       "<matplotlib.image.AxesImage at 0x7f05cdedf220>"
      ]
     },
     "execution_count": 14,
     "metadata": {},
     "output_type": "execute_result"
    },
    {
     "data": {
      "image/png": "[encoded data removed]",
      "text/plain": [
       "<Figure size 640x480 with 1 Axes>"
      ]
     },
     "metadata": {},
     "output_type": "display_data"
    }
   ],
   "source": [
    "plt.imshow(X[0].reshape(8, 8), cmap=\"gray\")"
   ]
  },
  {
   "cell_type": "markdown",
   "metadata": {},
   "source": [
    "### Data Preprocessing"
   ]
  },
  {
   "cell_type": "code",
   "execution_count": 15,
   "metadata": {},
   "outputs": [
    {
     "name": "stdout",
     "output_type": "stream",
     "text": [
      "(1437, 64) (1437, 10) (360, 64) (360, 10)\n"
     ]
    }
   ],
   "source": [
    "# Shuffle the data\n",
    "idx = np.arange(X.shape[0])\n",
    "np.random.shuffle(idx)\n",
    "X = X[idx]\n",
    "y = y[idx]\n",
    "\n",
    "# Use standard scaler\n",
    "scaler = StandardScaler()\n",
    "X = scaler.fit_transform(X)\n",
    "\n",
    "# One hot encode y\n",
    "def oneHotEncode(y):\n",
    "    y_ = np.zeros((y.shape[0], np.unique(y).shape[0]))\n",
    "    for i in range(y.shape[0]):\n",
    "        y_[i][y[i]] = 1\n",
    "    return y_\n",
    "\n",
    "y_one_hot = oneHotEncode(y)\n",
    "y_one_hot\n",
    "\n",
    "# Train test split\n",
    "X_train, X_test, y_train, y_test = train_test_split(X, y_one_hot, test_size=0.2)\n",
    "print(X_train.shape, y_train.shape, X_test.shape, y_test.shape)\n"
   ]
  },
  {
   "cell_type": "markdown",
   "metadata": {},
   "source": [
    "### Training and Test"
   ]
  },
  {
   "cell_type": "markdown",
   "metadata": {},
   "source": [
    "### 1. Sigmoid"
   ]
  },
  {
   "cell_type": "code",
   "execution_count": 16,
   "metadata": {},
   "outputs": [
    {
     "data": {
      "image/png": "[encoded data removed]",
      "text/plain": [
       "<Figure size 640x480 with 1 Axes>"
      ]
     },
     "metadata": {},
     "output_type": "display_data"
    },
    {
     "name": "stdout",
     "output_type": "stream",
     "text": [
      "Train accuracy: 0.99\n",
      "Test accuracy: 0.94\n"
     ]
    }
   ],
   "source": [
    "sigmoid_nn = NeuralNetwork(X.shape[1], y_one_hot.shape[1], activation=\"sigmoid\")\n",
    "sigmoid_nn.fit(X_train, y_train, epochs=1000, lr=0.005, plot=True)\n",
    "print(\"Train accuracy:\", np.round(sigmoid_nn.accuracy(X_train, y_train), 2))\n",
    "print(\"Test accuracy:\", np.round(sigmoid_nn.accuracy(X_test, y_test), 2))"
   ]
  },
  {
   "cell_type": "markdown",
   "metadata": {},
   "source": [
    "#### Observations\n",
    "1. The NN with sigmoid performs poorly when learning rate is greater than 0.01. It does well when learning rate is less than 0.01.\n",
    "2. With epochs=10000 and lr=0.01, the NN with sigmoid performs similar to the NN when lr=0.005 and epochs=1000. So, I am using lr=0.005 and epochs=1000 as it has lower training time."
   ]
  },
  {
   "cell_type": "markdown",
   "metadata": {},
   "source": [
    "### 2. ReLU"
   ]
  },
  {
   "cell_type": "code",
   "execution_count": 17,
   "metadata": {},
   "outputs": [
    {
     "data": {
      "image/png": "[encoded data removed]",
      "text/plain": [
       "<Figure size 640x480 with 1 Axes>"
      ]
     },
     "metadata": {},
     "output_type": "display_data"
    },
    {
     "name": "stdout",
     "output_type": "stream",
     "text": [
      "Train accuracy: 0.11\n",
      "Test accuracy: 0.07\n"
     ]
    }
   ],
   "source": [
    "relu_nn = NeuralNetwork(X.shape[1], y_one_hot.shape[1], activation=\"relu\")\n",
    "relu_nn.fit(X_train, y_train, epochs=1000, lr=0.001, plot=True)\n",
    "print(\"Train accuracy:\", np.round(relu_nn.accuracy(X_train, y_train), 2))\n",
    "print(\"Test accuracy:\", np.round(relu_nn.accuracy(X_test, y_test), 2))"
   ]
  },
  {
   "cell_type": "markdown",
   "metadata": {},
   "source": [
    "#### Observations\n",
    "1. The NN with relu performs poorly regardless of the choice of learning rate and epochs.\n",
    "2. ReLU may not be the best choice for this problem since we want to predict a value between 0 and 1. However, ReLU gives values between 0 and infinity in the output layer. Thus even though the loss may be low, the accuracy won't be high."
   ]
  },
  {
   "cell_type": "markdown",
   "metadata": {},
   "source": [
    "### 3. Tanh"
   ]
  },
  {
   "cell_type": "code",
   "execution_count": 18,
   "metadata": {},
   "outputs": [
    {
     "data": {
      "image/png": "[encoded data removed]",
      "text/plain": [
       "<Figure size 640x480 with 1 Axes>"
      ]
     },
     "metadata": {},
     "output_type": "display_data"
    },
    {
     "name": "stdout",
     "output_type": "stream",
     "text": [
      "Train accuracy: 0.94\n",
      "Test accuracy: 0.91\n"
     ]
    }
   ],
   "source": [
    "tanh_nn = NeuralNetwork(X.shape[1], y_one_hot.shape[1], activation=\"tanh\")\n",
    "tanh_nn.fit(X_train, y_train, epochs=1000, lr=0.001, plot=True)\n",
    "print(\"Train accuracy:\", np.round(tanh_nn.accuracy(X_train, y_train), 2))\n",
    "print(\"Test accuracy:\", np.round(tanh_nn.accuracy(X_test, y_test), 2))"
   ]
  },
  {
   "cell_type": "markdown",
   "metadata": {},
   "source": [
    "#### Observations\n",
    "1. The NN with tanh gives similar results using same hyperparameters as sigmoid.\n",
    "2. Overall sigmoid performs better than tanh and relu. Sometimes, tanh performs better than sigmoid."
   ]
  }
 ],
 "metadata": {
  "kernelspec": {
   "display_name": "Python 3",
   "language": "python",
   "name": "python3"
  },
  "language_info": {
   "codemirror_mode": {
    "name": "ipython",
    "version": 3
   },
   "file_extension": ".py",
   "mimetype": "text/x-python",
   "name": "python",
   "nbconvert_exporter": "python",
   "pygments_lexer": "ipython3",
   "version": "3.10.13"
  }
 },
 "nbformat": 4,
 "nbformat_minor": 2
}
